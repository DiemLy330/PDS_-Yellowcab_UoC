{
 "cells": [
  {
   "cell_type": "code",
   "execution_count": 85,
   "metadata": {},
   "outputs": [],
   "source": [
    "from cabana import *\n",
    "import numpy as np\n",
    "import matplotlib.pyplot as plt\n",
    "import time\n",
    "import pandas as pd\n",
    "import seaborn as sns\n",
    "from sklearn.model_selection import train_test_split"
   ]
  },
  {
   "cell_type": "code",
   "execution_count": 86,
   "metadata": {},
   "outputs": [
    {
     "name": "stdout",
     "output_type": "stream",
     "text": [
      "<class 'pandas.core.frame.DataFrame'>\n",
      "Int64Index: 5959732 entries, 1210572 to 814615\n",
      "Data columns (total 16 columns):\n",
      "tpep_pickup_datetime     datetime64[ns]\n",
      "tpep_dropoff_datetime    datetime64[ns]\n",
      "passenger_count          float64\n",
      "trip_distance            float64\n",
      "RatecodeID               float64\n",
      "PULocationID             int64\n",
      "DOLocationID             int64\n",
      "payment_type             float64\n",
      "fare_amount              float64\n",
      "extra                    float64\n",
      "mta_tax                  float64\n",
      "tip_amount               float64\n",
      "tolls_amount             float64\n",
      "improvement_surcharge    float64\n",
      "total_amount             float64\n",
      "congestion_surcharge     float64\n",
      "dtypes: datetime64[ns](2), float64(12), int64(2)\n",
      "memory usage: 773.0 MB\n",
      "None\n",
      "<class 'pandas.core.frame.DataFrame'>\n",
      "Int64Index: 5915971 entries, 1210572 to 814615\n",
      "Data columns (total 18 columns):\n",
      "tpep_pickup_datetime     datetime64[ns]\n",
      "tpep_dropoff_datetime    datetime64[ns]\n",
      "passenger_count          float64\n",
      "trip_distance            float64\n",
      "RatecodeID               float64\n",
      "PULocationID             int64\n",
      "DOLocationID             int64\n",
      "payment_type             float64\n",
      "fare_amount              float64\n",
      "extra                    float64\n",
      "mta_tax                  float64\n",
      "tip_amount               float64\n",
      "tolls_amount             float64\n",
      "improvement_surcharge    float64\n",
      "total_amount             float64\n",
      "congestion_surcharge     float64\n",
      "longitude                int32\n",
      "latitude                 int32\n",
      "dtypes: datetime64[ns](2), float64(12), int32(2), int64(2)\n",
      "memory usage: 812.4 MB\n",
      "None\n"
     ]
    }
   ],
   "source": [
    "# %load test.py\n",
    "\n",
    "        # Test geo() module,\n",
    "    # data = geo()\n",
    "    # print(data.get_centroid()) # giving a dict of approx. 260 keys\n",
    "    # print(data.map_locationID(location=10))\n",
    "    # print(data.get_map())\n",
    "#-------------------------------------------------------------\n",
    "        # Test trip_inputs() module\n",
    "x = trips_input()\n",
    "    # l = x.get_borough_locationID(borough=\"Bronx\")\n",
    "    # print(l)\n",
    "\n",
    "t = x.get_trips(fraction=0.25) \n",
    "print(t.info())\n",
    "       #  Histogram of passenger_count\n",
    "    # counts, bins = np.histogram(t.iloc[:,2], bins=10, range=(0, 10))\n",
    "    # print(counts, bins)\n",
    "    # plt.ylim([0,6000000])\n",
    "    # plt.xlim([0,10])\n",
    "    # plt.hist(bins[:-1], bins, weights=counts, color='mediumblue', ec='darkblue')\n",
    "    # plt.show()\n",
    "#-------------------------------------------------------------\n",
    "       #Test trips_info() module\n",
    "Y = trips_info(t)\n",
    "    # df = y.get_time(column='tpep_dropoff_datetime')\n",
    "    # print(df.info())\n",
    "    # print(df.head())\n",
    "\n",
    "    # d = y.get_duration()\n",
    "    # print(d.head())\n",
    "    # print(d.info())\n",
    "\n",
    "df = Y.get_position()\n",
    "print(df.info())\n",
    "    # a,b,c = y.outlier(df['longitude'])\n",
    "    # d,e,f = y.outlier(df['latitude'])\n",
    "\n",
    "    # start_location = df[(df['longitude']>a)&(df['longitude']<b)&(df['latitude']>d)&(df['latitude']<e)]\n",
    "    # sl = start_location.loc[:,['longitude','latitude']]\n",
    "    # print(sl.describe())\n",
    "    # print(f'Number of outlier for longitude is {c}')\n",
    "    # print(f'Number of outlier for latitude is {f}')\n",
    "\n",
    "    # fig, axs = plt.subplots(ncols=2)\n",
    "    # sns.distplot(sl['longitude'],color='b', ax=axs[0])\n",
    "    # sns.distplot(sl['latitude'], color='r', ax=axs[1])\n",
    "    # plt.show()\n",
    "\n",
    "    # m = y.get_aggregate('month')\n",
    "    # h = y.get_aggregate('hour')\n",
    "    # d = y.get_aggregate('weekday')\n",
    "    # print(m,h,d)\n",
    "\n",
    "    # d = y.map_best_month()\n",
    "    # print(d)\n",
    "#--------------------------------------------------------------\n",
    "    # Plot trip_distance distribution\n",
    "    # g,h,k = outlier(df['trip_distance'])\n",
    "    # d = df[(df['trip_distance']<y)&(df['trip_distance']>x)]\n",
    "    # sns.distplot(d['trip_distance'])\n",
    "    # plt.show()\n",
    "#--------------------------------------------------------------"
   ]
  },
  {
   "cell_type": "markdown",
   "metadata": {},
   "source": [
    "# Build Models"
   ]
  },
  {
   "cell_type": "code",
   "execution_count": 62,
   "metadata": {
    "scrolled": true
   },
   "outputs": [],
   "source": [
    "# Train, test split\n",
    "X = t[['tpep_pickup_datetime','tpep_dropoff_datetime','PULocationID','DOLocationID']]\n",
    "y = t['fare_amount']\n",
    "X_train, X_test, y_train, y_test = train_test_split(X,y, test_size=0.3)\n",
    "X_process = X_train.copy()"
   ]
  },
  {
   "cell_type": "markdown",
   "metadata": {},
   "source": [
    "# Process X_train"
   ]
  },
  {
   "cell_type": "code",
   "execution_count": 63,
   "metadata": {},
   "outputs": [
    {
     "name": "stderr",
     "output_type": "stream",
     "text": [
      "C:\\Users\\kyral\\Anaconda3\\lib\\site-packages\\ipykernel_launcher.py:6: SettingWithCopyWarning: \n",
      "A value is trying to be set on a copy of a slice from a DataFrame.\n",
      "Try using .loc[row_indexer,col_indexer] = value instead\n",
      "\n",
      "See the caveats in the documentation: http://pandas.pydata.org/pandas-docs/stable/user_guide/indexing.html#returning-a-view-versus-a-copy\n",
      "  \n",
      "C:\\Users\\kyral\\Anaconda3\\lib\\site-packages\\ipykernel_launcher.py:7: SettingWithCopyWarning: \n",
      "A value is trying to be set on a copy of a slice from a DataFrame.\n",
      "Try using .loc[row_indexer,col_indexer] = value instead\n",
      "\n",
      "See the caveats in the documentation: http://pandas.pydata.org/pandas-docs/stable/user_guide/indexing.html#returning-a-view-versus-a-copy\n",
      "  import sys\n",
      "C:\\Users\\kyral\\Anaconda3\\lib\\site-packages\\ipykernel_launcher.py:8: SettingWithCopyWarning: \n",
      "A value is trying to be set on a copy of a slice from a DataFrame.\n",
      "Try using .loc[row_indexer,col_indexer] = value instead\n",
      "\n",
      "See the caveats in the documentation: http://pandas.pydata.org/pandas-docs/stable/user_guide/indexing.html#returning-a-view-versus-a-copy\n",
      "  \n",
      "C:\\Users\\kyral\\Anaconda3\\lib\\site-packages\\ipykernel_launcher.py:9: SettingWithCopyWarning: \n",
      "A value is trying to be set on a copy of a slice from a DataFrame.\n",
      "Try using .loc[row_indexer,col_indexer] = value instead\n",
      "\n",
      "See the caveats in the documentation: http://pandas.pydata.org/pandas-docs/stable/user_guide/indexing.html#returning-a-view-versus-a-copy\n",
      "  if __name__ == '__main__':\n",
      "C:\\Users\\kyral\\Anaconda3\\lib\\site-packages\\ipykernel_launcher.py:11: SettingWithCopyWarning: \n",
      "A value is trying to be set on a copy of a slice from a DataFrame.\n",
      "Try using .loc[row_indexer,col_indexer] = value instead\n",
      "\n",
      "See the caveats in the documentation: http://pandas.pydata.org/pandas-docs/stable/user_guide/indexing.html#returning-a-view-versus-a-copy\n",
      "  # This is added back by InteractiveShellApp.init_path()\n",
      "C:\\Users\\kyral\\Anaconda3\\lib\\site-packages\\ipykernel_launcher.py:12: SettingWithCopyWarning: \n",
      "A value is trying to be set on a copy of a slice from a DataFrame.\n",
      "Try using .loc[row_indexer,col_indexer] = value instead\n",
      "\n",
      "See the caveats in the documentation: http://pandas.pydata.org/pandas-docs/stable/user_guide/indexing.html#returning-a-view-versus-a-copy\n",
      "  if sys.path[0] == '':\n",
      "C:\\Users\\kyral\\Anaconda3\\lib\\site-packages\\ipykernel_launcher.py:13: SettingWithCopyWarning: \n",
      "A value is trying to be set on a copy of a slice from a DataFrame.\n",
      "Try using .loc[row_indexer,col_indexer] = value instead\n",
      "\n",
      "See the caveats in the documentation: http://pandas.pydata.org/pandas-docs/stable/user_guide/indexing.html#returning-a-view-versus-a-copy\n",
      "  del sys.path[0]\n",
      "C:\\Users\\kyral\\Anaconda3\\lib\\site-packages\\ipykernel_launcher.py:14: SettingWithCopyWarning: \n",
      "A value is trying to be set on a copy of a slice from a DataFrame.\n",
      "Try using .loc[row_indexer,col_indexer] = value instead\n",
      "\n",
      "See the caveats in the documentation: http://pandas.pydata.org/pandas-docs/stable/user_guide/indexing.html#returning-a-view-versus-a-copy\n",
      "  \n"
     ]
    },
    {
     "name": "stdout",
     "output_type": "stream",
     "text": [
      "<class 'pandas.core.frame.DataFrame'>\n",
      "Int64Index: 4171812 entries, 1245406 to 2784816\n",
      "Data columns (total 12 columns):\n",
      "tpep_pickup_datetime     datetime64[ns]\n",
      "tpep_dropoff_datetime    datetime64[ns]\n",
      "PULocationID             int64\n",
      "DOLocationID             int64\n",
      "PUmonth                  int64\n",
      "PUhour                   int64\n",
      "PUweekday                object\n",
      "PUweekend                int64\n",
      "DOmonth                  int64\n",
      "DOhour                   int64\n",
      "DOweekday                object\n",
      "DOweekend                int64\n",
      "dtypes: datetime64[ns](2), int64(8), object(2)\n",
      "memory usage: 413.8+ MB\n",
      "None\n"
     ]
    }
   ],
   "source": [
    "# Get time info\n",
    "train = trips_info(X_process)\n",
    "PUtime = train.get_time()\n",
    "DOtime = train.get_time(column='tpep_dropoff_datetime')\n",
    "\n",
    "X_train['PUmonth'] = PUtime['month'].values\n",
    "X_train['PUhour'] = PUtime['hour'].values\n",
    "X_train['PUweekday'] = PUtime['weekday'].values\n",
    "X_train['PUweekend'] = PUtime['weekend'].values\n",
    "\n",
    "X_train['DOmonth'] = DOtime['month'].values\n",
    "X_train['DOhour'] = DOtime['hour'].values\n",
    "X_train['DOweekday'] = DOtime['weekday'].values\n",
    "X_train['DOweekend'] = DOtime['weekend'].values\n",
    "\n",
    "print(X_train.info())"
   ]
  },
  {
   "cell_type": "code",
   "execution_count": 72,
   "metadata": {},
   "outputs": [
    {
     "name": "stdout",
     "output_type": "stream",
     "text": [
      "<class 'pandas.core.frame.DataFrame'>\n",
      "Int64Index: 4125312 entries, 1245406 to 2784816\n",
      "Data columns (total 10 columns):\n",
      "tpep_pickup_datetime     datetime64[ns]\n",
      "tpep_dropoff_datetime    datetime64[ns]\n",
      "PULocationID             int64\n",
      "DOLocationID             int64\n",
      "month                    int64\n",
      "hour                     int64\n",
      "weekday                  object\n",
      "weekend                  int64\n",
      "PUlongitude              int32\n",
      "PUlatitude               int32\n",
      "dtypes: datetime64[ns](2), int32(2), int64(5), object(1)\n",
      "memory usage: 314.7+ MB\n",
      "None\n"
     ]
    }
   ],
   "source": [
    "# Get position info\n",
    "PUposition = train.get_position()\n",
    "PUposition = PUposition.rename(columns={'longitude':'PUlongitude','latitude':'PUlatitude'})\n",
    "\n",
    "DOposition = train.get_position(column='DOLocationID')\n",
    "DOposition = DOposition.rename(columns={'longitude':'DOlongitude','latitude':'DOlatitude'})\n",
    "print(PUposition.info())\n"
   ]
  },
  {
   "cell_type": "code",
   "execution_count": null,
   "metadata": {},
   "outputs": [],
   "source": []
  },
  {
   "cell_type": "code",
   "execution_count": null,
   "metadata": {},
   "outputs": [],
   "source": []
  }
 ],
 "metadata": {
  "kernelspec": {
   "display_name": "Python 3",
   "language": "python",
   "name": "python3"
  },
  "language_info": {
   "codemirror_mode": {
    "name": "ipython",
    "version": 3
   },
   "file_extension": ".py",
   "mimetype": "text/x-python",
   "name": "python",
   "nbconvert_exporter": "python",
   "pygments_lexer": "ipython3",
   "version": "3.7.4"
  }
 },
 "nbformat": 4,
 "nbformat_minor": 2
}
